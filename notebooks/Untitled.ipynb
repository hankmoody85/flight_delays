{
 "cells": [
  {
   "cell_type": "code",
   "execution_count": 1,
   "id": "5eb0e15c",
   "metadata": {},
   "outputs": [
    {
     "data": {
      "text/plain": [
       "['example_iris_data',\n",
       " 'X_train@pyspark',\n",
       " 'X_train@pandas',\n",
       " 'X_test@pyspark',\n",
       " 'X_test@pandas',\n",
       " 'y_train@pyspark',\n",
       " 'y_train@pandas',\n",
       " 'y_test@pyspark',\n",
       " 'y_test@pandas',\n",
       " 'example_classifier',\n",
       " 'parameters',\n",
       " 'params:train_fraction',\n",
       " 'params:random_state',\n",
       " 'params:target_column']"
      ]
     },
     "execution_count": 1,
     "metadata": {},
     "output_type": "execute_result"
    }
   ],
   "source": [
    "catalog.list()"
   ]
  },
  {
   "cell_type": "code",
   "execution_count": 2,
   "id": "c276a132",
   "metadata": {},
   "outputs": [
    {
     "name": "stdout",
     "output_type": "stream",
     "text": [
      "2022-06-30 21:15:31,897 - kedro.io.data_catalog - INFO - Loading data from `y_test@pyspark` (SparkDataSet)...\n"
     ]
    },
    {
     "name": "stderr",
     "output_type": "stream",
     "text": [
      "                                                                                \r"
     ]
    }
   ],
   "source": [
    "df = catalog.load('y_test@pyspark')"
   ]
  },
  {
   "cell_type": "code",
   "execution_count": 3,
   "id": "55227a19",
   "metadata": {},
   "outputs": [
    {
     "name": "stderr",
     "output_type": "stream",
     "text": [
      "\r",
      "[Stage 1:>                                                          (0 + 1) / 1]\r"
     ]
    },
    {
     "name": "stdout",
     "output_type": "stream",
     "text": [
      "+----------+\n",
      "|   species|\n",
      "+----------+\n",
      "|    setosa|\n",
      "|    setosa|\n",
      "|    setosa|\n",
      "|    setosa|\n",
      "|    setosa|\n",
      "|    setosa|\n",
      "|    setosa|\n",
      "|    setosa|\n",
      "|versicolor|\n",
      "|versicolor|\n",
      "+----------+\n",
      "only showing top 10 rows\n",
      "\n"
     ]
    },
    {
     "name": "stderr",
     "output_type": "stream",
     "text": [
      "\r",
      "                                                                                \r"
     ]
    }
   ],
   "source": [
    "df.show(10)"
   ]
  },
  {
   "cell_type": "code",
   "execution_count": null,
   "id": "8b047b49",
   "metadata": {},
   "outputs": [],
   "source": []
  }
 ],
 "metadata": {
  "kernelspec": {
   "display_name": "Kedro (flight_delay)",
   "language": "python",
   "name": "kedro_flight_delay"
  },
  "language_info": {
   "codemirror_mode": {
    "name": "ipython",
    "version": 3
   },
   "file_extension": ".py",
   "mimetype": "text/x-python",
   "name": "python",
   "nbconvert_exporter": "python",
   "pygments_lexer": "ipython3",
   "version": "3.7.13"
  }
 },
 "nbformat": 4,
 "nbformat_minor": 5
}
